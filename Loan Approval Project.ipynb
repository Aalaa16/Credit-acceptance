{
 "cells": [
  {
   "cell_type": "markdown",
   "id": "cfb4bc9f",
   "metadata": {},
   "source": [
    "### Importing the required libraries to get started with our data"
   ]
  },
  {
   "cell_type": "code",
   "execution_count": 133,
   "id": "fb95d655",
   "metadata": {},
   "outputs": [],
   "source": [
    "import pandas as pd\n",
    "import numpy as np\n",
    "import seaborn as sns\n",
    "import matplotlib.pyplot as plt "
   ]
  },
  {
   "cell_type": "code",
   "execution_count": 134,
   "id": "baa21474",
   "metadata": {},
   "outputs": [],
   "source": [
    "df=pd.read_csv('train_ctrUa4K.csv')"
   ]
  },
  {
   "cell_type": "code",
   "execution_count": 135,
   "id": "6263d645",
   "metadata": {},
   "outputs": [
    {
     "data": {
      "text/html": [
       "<div>\n",
       "<style scoped>\n",
       "    .dataframe tbody tr th:only-of-type {\n",
       "        vertical-align: middle;\n",
       "    }\n",
       "\n",
       "    .dataframe tbody tr th {\n",
       "        vertical-align: top;\n",
       "    }\n",
       "\n",
       "    .dataframe thead th {\n",
       "        text-align: right;\n",
       "    }\n",
       "</style>\n",
       "<table border=\"1\" class=\"dataframe\">\n",
       "  <thead>\n",
       "    <tr style=\"text-align: right;\">\n",
       "      <th></th>\n",
       "      <th>Loan_ID</th>\n",
       "      <th>Gender</th>\n",
       "      <th>Married</th>\n",
       "      <th>Dependents</th>\n",
       "      <th>Education</th>\n",
       "      <th>Self_Employed</th>\n",
       "      <th>ApplicantIncome</th>\n",
       "      <th>CoapplicantIncome</th>\n",
       "      <th>LoanAmount</th>\n",
       "      <th>Loan_Amount_Term</th>\n",
       "      <th>Credit_History</th>\n",
       "      <th>Property_Area</th>\n",
       "      <th>Loan_Status</th>\n",
       "    </tr>\n",
       "  </thead>\n",
       "  <tbody>\n",
       "    <tr>\n",
       "      <th>0</th>\n",
       "      <td>LP001002</td>\n",
       "      <td>Male</td>\n",
       "      <td>No</td>\n",
       "      <td>0</td>\n",
       "      <td>Graduate</td>\n",
       "      <td>No</td>\n",
       "      <td>5849</td>\n",
       "      <td>0.0</td>\n",
       "      <td>NaN</td>\n",
       "      <td>360.0</td>\n",
       "      <td>1.0</td>\n",
       "      <td>Urban</td>\n",
       "      <td>Y</td>\n",
       "    </tr>\n",
       "    <tr>\n",
       "      <th>1</th>\n",
       "      <td>LP001003</td>\n",
       "      <td>Male</td>\n",
       "      <td>Yes</td>\n",
       "      <td>1</td>\n",
       "      <td>Graduate</td>\n",
       "      <td>No</td>\n",
       "      <td>4583</td>\n",
       "      <td>1508.0</td>\n",
       "      <td>128.0</td>\n",
       "      <td>360.0</td>\n",
       "      <td>1.0</td>\n",
       "      <td>Rural</td>\n",
       "      <td>N</td>\n",
       "    </tr>\n",
       "    <tr>\n",
       "      <th>2</th>\n",
       "      <td>LP001005</td>\n",
       "      <td>Male</td>\n",
       "      <td>Yes</td>\n",
       "      <td>0</td>\n",
       "      <td>Graduate</td>\n",
       "      <td>Yes</td>\n",
       "      <td>3000</td>\n",
       "      <td>0.0</td>\n",
       "      <td>66.0</td>\n",
       "      <td>360.0</td>\n",
       "      <td>1.0</td>\n",
       "      <td>Urban</td>\n",
       "      <td>Y</td>\n",
       "    </tr>\n",
       "    <tr>\n",
       "      <th>3</th>\n",
       "      <td>LP001006</td>\n",
       "      <td>Male</td>\n",
       "      <td>Yes</td>\n",
       "      <td>0</td>\n",
       "      <td>Not Graduate</td>\n",
       "      <td>No</td>\n",
       "      <td>2583</td>\n",
       "      <td>2358.0</td>\n",
       "      <td>120.0</td>\n",
       "      <td>360.0</td>\n",
       "      <td>1.0</td>\n",
       "      <td>Urban</td>\n",
       "      <td>Y</td>\n",
       "    </tr>\n",
       "    <tr>\n",
       "      <th>4</th>\n",
       "      <td>LP001008</td>\n",
       "      <td>Male</td>\n",
       "      <td>No</td>\n",
       "      <td>0</td>\n",
       "      <td>Graduate</td>\n",
       "      <td>No</td>\n",
       "      <td>6000</td>\n",
       "      <td>0.0</td>\n",
       "      <td>141.0</td>\n",
       "      <td>360.0</td>\n",
       "      <td>1.0</td>\n",
       "      <td>Urban</td>\n",
       "      <td>Y</td>\n",
       "    </tr>\n",
       "  </tbody>\n",
       "</table>\n",
       "</div>"
      ],
      "text/plain": [
       "    Loan_ID Gender Married Dependents     Education Self_Employed  \\\n",
       "0  LP001002   Male      No          0      Graduate            No   \n",
       "1  LP001003   Male     Yes          1      Graduate            No   \n",
       "2  LP001005   Male     Yes          0      Graduate           Yes   \n",
       "3  LP001006   Male     Yes          0  Not Graduate            No   \n",
       "4  LP001008   Male      No          0      Graduate            No   \n",
       "\n",
       "   ApplicantIncome  CoapplicantIncome  LoanAmount  Loan_Amount_Term  \\\n",
       "0             5849                0.0         NaN             360.0   \n",
       "1             4583             1508.0       128.0             360.0   \n",
       "2             3000                0.0        66.0             360.0   \n",
       "3             2583             2358.0       120.0             360.0   \n",
       "4             6000                0.0       141.0             360.0   \n",
       "\n",
       "   Credit_History Property_Area Loan_Status  \n",
       "0             1.0         Urban           Y  \n",
       "1             1.0         Rural           N  \n",
       "2             1.0         Urban           Y  \n",
       "3             1.0         Urban           Y  \n",
       "4             1.0         Urban           Y  "
      ]
     },
     "execution_count": 135,
     "metadata": {},
     "output_type": "execute_result"
    }
   ],
   "source": [
    "df.head()"
   ]
  },
  {
   "cell_type": "code",
   "execution_count": 136,
   "id": "e6b3019a",
   "metadata": {},
   "outputs": [
    {
     "name": "stdout",
     "output_type": "stream",
     "text": [
      "<class 'pandas.core.frame.DataFrame'>\n",
      "RangeIndex: 614 entries, 0 to 613\n",
      "Data columns (total 13 columns):\n",
      " #   Column             Non-Null Count  Dtype  \n",
      "---  ------             --------------  -----  \n",
      " 0   Loan_ID            614 non-null    object \n",
      " 1   Gender             601 non-null    object \n",
      " 2   Married            611 non-null    object \n",
      " 3   Dependents         599 non-null    object \n",
      " 4   Education          614 non-null    object \n",
      " 5   Self_Employed      582 non-null    object \n",
      " 6   ApplicantIncome    614 non-null    int64  \n",
      " 7   CoapplicantIncome  614 non-null    float64\n",
      " 8   LoanAmount         592 non-null    float64\n",
      " 9   Loan_Amount_Term   600 non-null    float64\n",
      " 10  Credit_History     564 non-null    float64\n",
      " 11  Property_Area      614 non-null    object \n",
      " 12  Loan_Status        614 non-null    object \n",
      "dtypes: float64(4), int64(1), object(8)\n",
      "memory usage: 62.5+ KB\n"
     ]
    }
   ],
   "source": [
    "df.info()"
   ]
  },
  {
   "cell_type": "code",
   "execution_count": 137,
   "id": "2ffbfa0c",
   "metadata": {},
   "outputs": [],
   "source": [
    "df.drop(['Loan_ID'],inplace=True , axis=1)"
   ]
  },
  {
   "cell_type": "code",
   "execution_count": 138,
   "id": "0417e96d",
   "metadata": {
    "scrolled": true
   },
   "outputs": [
    {
     "data": {
      "text/plain": [
       "Gender               13\n",
       "Married               3\n",
       "Dependents           15\n",
       "Education             0\n",
       "Self_Employed        32\n",
       "ApplicantIncome       0\n",
       "CoapplicantIncome     0\n",
       "LoanAmount           22\n",
       "Loan_Amount_Term     14\n",
       "Credit_History       50\n",
       "Property_Area         0\n",
       "Loan_Status           0\n",
       "dtype: int64"
      ]
     },
     "execution_count": 138,
     "metadata": {},
     "output_type": "execute_result"
    }
   ],
   "source": [
    "df.isnull().sum()"
   ]
  },
  {
   "cell_type": "markdown",
   "id": "2c9615de",
   "metadata": {},
   "source": [
    "### The null values are not too much , so we'll drop them."
   ]
  },
  {
   "cell_type": "code",
   "execution_count": 139,
   "id": "d2d5dbc7",
   "metadata": {},
   "outputs": [],
   "source": [
    "df.dropna(inplace=True)"
   ]
  },
  {
   "cell_type": "code",
   "execution_count": 140,
   "id": "56bc91c9",
   "metadata": {},
   "outputs": [],
   "source": [
    "df.reset_index(drop = True , inplace = True)"
   ]
  },
  {
   "cell_type": "code",
   "execution_count": 141,
   "id": "0c2f5441",
   "metadata": {
    "scrolled": true
   },
   "outputs": [
    {
     "data": {
      "text/plain": [
       "0"
      ]
     },
     "execution_count": 141,
     "metadata": {},
     "output_type": "execute_result"
    }
   ],
   "source": [
    "df.duplicated().sum()"
   ]
  },
  {
   "cell_type": "markdown",
   "id": "681eb55f",
   "metadata": {},
   "source": [
    "### Checking for duplicates is an important step . There's no duplicates. "
   ]
  },
  {
   "cell_type": "code",
   "execution_count": 142,
   "id": "c48e7486",
   "metadata": {},
   "outputs": [
    {
     "name": "stdout",
     "output_type": "stream",
     "text": [
      "Gender ['Male' 'Female']\n",
      "Married ['Yes' 'No']\n",
      "Dependents ['1' '0' '2' '3+']\n",
      "Education ['Graduate' 'Not Graduate']\n",
      "Self_Employed ['No' 'Yes']\n",
      "ApplicantIncome [ 4583  3000  2583  6000  5417  2333  3036  4006 12841  3200  3073  1853\n",
      "  1299  4950  3510  4887  7660  5955  2600  9560  2799  4226  1442  3167\n",
      "  4692  3500 12500  3667  4166  3748  3600  1800  3941  5649  5821  2645\n",
      "  4000  1928  3086  4230  4616 11500  2708  2132  3366  8080  3357  2500\n",
      "  3029  2609  5726 10750  7100  4300  3208  1875  5266  3750  1000  3846\n",
      "  1378  3988  2366  8566  5695  2958  6250  3273  4133  3620  2484  1977\n",
      "  4188  1759  4288  4843  3052 11417  3800  2071  5316 14583  5568 10408\n",
      "  2137  2957 10513  2014  2718  3459  4895  3316 14999  4200  5042  6950\n",
      "  2698 11757  2330 14866  1538 10000  4860  6277  2577  9166  2281  3254\n",
      " 39999  9538  1863  7933  3089  4167  9323  2439  2237  8000  3522  5708\n",
      "  4344  3497  2045  5516  6400  4600 33846  3625 39147  2178  9328  4885\n",
      " 12000  6033  3858  4191  3125  8333 11000  4923  3917  4408  3244  3975\n",
      "  2479  3418  3430  7787  5703  3173  3850   150  3727  2221  4009  2971\n",
      "  3250  2491  3155  5500  3812  3315  5819  2510  2965  3406  6050  9703\n",
      "  6608  2882  1809  1668  3427  2661 16250  3083  6045  5250 14683  2060\n",
      "  3481  7200  5166  4095  4708  4333  2876  3237 11146  2833  2620  3900\n",
      "  2750  3993  3103  4053  3927  2301  1811  3158  3704  4124  9508  3075\n",
      "  4400  3153  2383  6875  4666  5000  1625  3762  2400 20233  2917  2927\n",
      "  2507  3399  3717  4342 15000  8666  4917  5818  4384  2935  4160  2647\n",
      "  2378  4554  2499  2625  9083  8750  2666  2423  3875  5167  4723  4750\n",
      "  6822  6216  6325 19730 15759  5185  3062  4817  3069  5391  5941  7167\n",
      "  4566  2346  5488  9167  9504  1993  3100  3180  3033  3902  1500  2889\n",
      "  2755  1963  7441  4547  2167  2213  8300 81000  3867  6096  2253  2149\n",
      "  2995  1600  1025  3246  5829  1820 14880  4606  5935  2920  2717  8624\n",
      "  6500  2425  1926 10416  7142  3660  7901  4707 37719  3466  4652  3340\n",
      "  2309  3948  2483  7085  3859  4301  3708  4354  8334  7740  3015  2947\n",
      "  3450  2653  4691  5532 16525  6700 16667  4350  3095  2083 10833  1958\n",
      "  3547 18333  2435  3691 17263  3597  3326  2895  6283   645  3159  4865\n",
      "  3814 13262  3598  6065  3283  2130  5815  2031  4683  3400  2192  5677\n",
      "  7948 17500  3775  5285  2679  6783  4281  3588 18165  6133  3617  6417\n",
      "  4608  2138  2239  2768  3358  2526  2785  3333  2454  3593  5468 10139\n",
      "  3887  4180  3675 19484  5923  5800  8799  3166  3417 16666  6125  6406\n",
      "  3229  1782  6540  1836  2787  4283  2297  2165  2726 16120  3833  6383\n",
      "  9963  5780  3676  3987  3232  2900  4106  8072  7583]\n",
      "CoapplicantIncome [1.50800000e+03 0.00000000e+00 2.35800000e+03 4.19600000e+03\n",
      " 1.51600000e+03 2.50400000e+03 1.52600000e+03 1.09680000e+04\n",
      " 7.00000000e+02 8.10600000e+03 2.84000000e+03 1.08600000e+03\n",
      " 5.62500000e+03 1.91100000e+03 2.25300000e+03 1.04000000e+03\n",
      " 1.66700000e+03 3.00000000e+03 1.45900000e+03 7.21000000e+03\n",
      " 1.66800000e+03 1.21300000e+03 2.33600000e+03 3.44000000e+03\n",
      " 2.27500000e+03 1.64400000e+03 1.16700000e+03 1.59100000e+03\n",
      " 2.20000000e+03 2.25000000e+03 2.85900000e+03 3.79600000e+03\n",
      " 3.44900000e+03 4.59500000e+03 2.25400000e+03 3.06600000e+03\n",
      " 1.87500000e+03 1.77400000e+03 4.75000000e+03 3.02200000e+03\n",
      " 4.00000000e+03 1.88100000e+03 2.53100000e+03 2.11800000e+03\n",
      " 4.16700000e+03 2.90000000e+03 5.65400000e+03 1.82000000e+03\n",
      " 2.30200000e+03 9.97000000e+02 3.54100000e+03 3.26300000e+03\n",
      " 3.80600000e+03 1.03000000e+03 1.12600000e+03 3.60000000e+03\n",
      " 7.54000000e+02 2.28300000e+03 2.14200000e+03 8.98000000e+03\n",
      " 2.01400000e+03 3.85000000e+03 1.92900000e+03 7.75000000e+03\n",
      " 3.50000000e+03 1.43000000e+03 2.08300000e+03 2.03400000e+03\n",
      " 4.48600000e+03 1.42500000e+03 1.66600000e+03 8.30000000e+02\n",
      " 3.75000000e+03 1.04100000e+03 1.28000000e+03 1.44700000e+03\n",
      " 3.33300000e+03 7.36000000e+02 1.96400000e+03 1.61900000e+03\n",
      " 1.13000000e+04 1.45100000e+03 7.25000000e+03 2.58300000e+03\n",
      " 2.50000000e+03 1.08300000e+03 1.25000000e+03 3.02100000e+03\n",
      " 9.83000000e+02 1.80000000e+03 1.77500000e+03 1.71700000e+03\n",
      " 2.79100000e+03 1.69500000e+03 2.05400000e+03 1.77900000e+03\n",
      " 1.26000000e+03 5.00000000e+03 1.98300000e+03 5.70100000e+03\n",
      " 1.30000000e+03 4.41700000e+03 4.33300000e+03 1.84300000e+03\n",
      " 1.86800000e+03 3.89000000e+03 2.16700000e+03 7.10100000e+03\n",
      " 2.10000000e+03 2.20900000e+03 3.44700000e+03 1.38700000e+03\n",
      " 1.81100000e+03 1.56000000e+03 1.85700000e+03 2.22300000e+03\n",
      " 1.84200000e+03 3.27400000e+03 2.42600000e+03 8.00000000e+02\n",
      " 9.85799988e+02 3.05300000e+03 2.00000000e+03 2.41600000e+03\n",
      " 3.33400000e+03 2.54100000e+03 2.92500000e+03 2.93400000e+03\n",
      " 1.80300000e+03 1.86300000e+03 2.40500000e+03 1.64000000e+03\n",
      " 1.89000000e+02 4.98300000e+03 2.16000000e+03 2.45100000e+03\n",
      " 1.79300000e+03 4.60000000e+03 1.58700000e+03 1.22900000e+03\n",
      " 2.45800000e+03 2.16800000e+03 6.25000000e+03 5.05000000e+02\n",
      " 3.16700000e+03 3.66700000e+03 2.33300000e+03 5.26600000e+03\n",
      " 7.87300000e+03 1.98700000e+03 9.23000000e+02 4.99600000e+03\n",
      " 4.23200000e+03 1.60000000e+03 2.41700000e+03 1.62500000e+03\n",
      " 1.40000000e+03 2.00000000e+04 2.40000000e+03 2.03300000e+03\n",
      " 3.23700000e+03 2.77300000e+03 1.41700000e+03 1.71900000e+03\n",
      " 4.30000000e+03 1.61200008e+01 2.34000000e+03 1.85100000e+03\n",
      " 5.06400000e+03 1.83300000e+03 1.99300000e+03 1.21000000e+03\n",
      " 1.71000000e+03 1.25500000e+03 1.73300000e+03 2.46600000e+03\n",
      " 2.56900000e+03 2.18800000e+03 1.66400000e+03 2.07900000e+03\n",
      " 1.50000000e+03 4.64800000e+03 1.01400000e+03 1.75000000e+03\n",
      " 3.15000000e+03 2.43600000e+03 2.15700000e+03 9.13000000e+02\n",
      " 1.70000000e+03 4.41600000e+03 3.68300000e+03 5.62400000e+03\n",
      " 1.48300000e+03 3.01300000e+03 1.28700000e+03 2.00400000e+03\n",
      " 2.03500000e+03 6.66600000e+03 3.66600000e+03 3.42800000e+03\n",
      " 1.63200000e+03 1.91500000e+03 1.74200000e+03 1.42400000e+03\n",
      " 7.16600000e+03 1.30200000e+03 3.90600000e+03 5.36000000e+02\n",
      " 2.84500000e+03 2.52400000e+03 1.95000000e+03 1.78300000e+03\n",
      " 2.01600000e+03 3.25000000e+03 4.26600000e+03 1.03200000e+03\n",
      " 2.66900000e+03 2.30600000e+03 2.42000000e+02 2.06400000e+03\n",
      " 4.61000000e+02 2.73900000e+03 2.23200000e+03 3.38370000e+04\n",
      " 1.91700000e+03 1.52200000e+03 3.41600000e+03 3.30000000e+03\n",
      " 1.00000000e+03 4.30100000e+03 1.41100000e+03 2.40000000e+02]\n",
      "LoanAmount [128.  66. 120. 141. 267.  95. 158. 168. 349.  70. 200. 114.  17. 125.\n",
      "  76. 133. 104. 315. 116. 191. 122. 110.  35.  74. 106. 320. 144. 184.\n",
      "  80.  47. 134.  44. 100. 112. 286.  97.  96. 135. 180.  99. 165. 258.\n",
      " 126. 312. 136. 172.  81. 187. 113. 176. 111. 167.  50. 210. 175. 131.\n",
      " 188.  25. 137. 115. 151. 225. 216.  94. 185. 154. 259. 194. 160. 102.\n",
      " 290.  84.  88. 242. 129.  30. 118. 152. 244. 600. 255.  98. 275. 121.\n",
      "  75.  63.  87. 101. 495.  73. 260. 108.  48. 164. 170.  83.  90. 166.\n",
      " 124.  55.  59. 127. 214. 240. 130.  60. 280. 140. 155. 123. 201. 138.\n",
      " 279. 192. 304. 150. 207. 436.  78.  54.  89. 139.  93. 132. 480.  56.\n",
      " 300. 376.  67. 117.  71. 173.  46. 228. 308. 105. 236. 570. 380. 296.\n",
      " 156. 109. 103.  45.  65.  53. 360.  62. 218. 178. 239. 143. 148. 149.\n",
      " 153. 162. 230.  86. 234. 246. 500. 119. 107. 209. 208. 243.  40. 250.\n",
      " 311. 400. 161. 324. 157. 145. 181.  26. 182. 211.   9. 186. 205.  36.\n",
      " 146. 142. 496. 253.]\n",
      "Loan_Amount_Term [360. 120. 180.  60. 300. 480. 240.  36.  84.]\n",
      "Credit_History [1. 0.]\n",
      "Property_Area ['Rural' 'Urban' 'Semiurban']\n",
      "Loan_Status ['N' 'Y']\n"
     ]
    }
   ],
   "source": [
    "for col in df.columns :\n",
    "    print(col,df[col].unique())"
   ]
  },
  {
   "cell_type": "code",
   "execution_count": 143,
   "id": "88cfe6e2",
   "metadata": {},
   "outputs": [],
   "source": [
    "df['Loan_Amount_Term']=df['Loan_Amount_Term'].astype('int')"
   ]
  },
  {
   "cell_type": "code",
   "execution_count": 144,
   "id": "15166513",
   "metadata": {},
   "outputs": [],
   "source": [
    "df['Credit_History']=df['Credit_History'].astype('int')"
   ]
  },
  {
   "cell_type": "code",
   "execution_count": 145,
   "id": "4d10db8d",
   "metadata": {},
   "outputs": [
    {
     "data": {
      "text/plain": [
       "Gender\n",
       "Male      394\n",
       "Female     86\n",
       "Name: count, dtype: int64"
      ]
     },
     "execution_count": 145,
     "metadata": {},
     "output_type": "execute_result"
    }
   ],
   "source": [
    "df['Gender'].value_counts()"
   ]
  },
  {
   "cell_type": "code",
   "execution_count": 146,
   "id": "301fd066",
   "metadata": {},
   "outputs": [
    {
     "data": {
      "text/plain": [
       "Married\n",
       "Yes    311\n",
       "No     169\n",
       "Name: count, dtype: int64"
      ]
     },
     "execution_count": 146,
     "metadata": {},
     "output_type": "execute_result"
    }
   ],
   "source": [
    "df['Married'].value_counts()"
   ]
  },
  {
   "cell_type": "code",
   "execution_count": 147,
   "id": "b483ac7b",
   "metadata": {},
   "outputs": [
    {
     "data": {
      "text/plain": [
       "array(['1', '0', '2', '3+'], dtype=object)"
      ]
     },
     "execution_count": 147,
     "metadata": {},
     "output_type": "execute_result"
    }
   ],
   "source": [
    "df['Dependents'].unique()"
   ]
  },
  {
   "cell_type": "code",
   "execution_count": 148,
   "id": "d7260426",
   "metadata": {},
   "outputs": [
    {
     "data": {
      "text/plain": [
       "Education\n",
       "Graduate        383\n",
       "Not Graduate     97\n",
       "Name: count, dtype: int64"
      ]
     },
     "execution_count": 148,
     "metadata": {},
     "output_type": "execute_result"
    }
   ],
   "source": [
    "df['Education'].value_counts()"
   ]
  },
  {
   "cell_type": "code",
   "execution_count": 149,
   "id": "a7531b8c",
   "metadata": {},
   "outputs": [
    {
     "data": {
      "text/plain": [
       "array(['No', 'Yes'], dtype=object)"
      ]
     },
     "execution_count": 149,
     "metadata": {},
     "output_type": "execute_result"
    }
   ],
   "source": [
    "df['Self_Employed'].unique()"
   ]
  },
  {
   "cell_type": "code",
   "execution_count": 150,
   "id": "4e383634",
   "metadata": {},
   "outputs": [
    {
     "data": {
      "text/plain": [
       "array([360, 120, 180,  60, 300, 480, 240,  36,  84])"
      ]
     },
     "execution_count": 150,
     "metadata": {},
     "output_type": "execute_result"
    }
   ],
   "source": [
    "df['Loan_Amount_Term'].unique()"
   ]
  },
  {
   "cell_type": "code",
   "execution_count": 151,
   "id": "aaae9f9a",
   "metadata": {},
   "outputs": [
    {
     "data": {
      "text/plain": [
       "Credit_History\n",
       "1    410\n",
       "0     70\n",
       "Name: count, dtype: int64"
      ]
     },
     "execution_count": 151,
     "metadata": {},
     "output_type": "execute_result"
    }
   ],
   "source": [
    "df['Credit_History'].value_counts()"
   ]
  },
  {
   "cell_type": "code",
   "execution_count": 152,
   "id": "8ee3d224",
   "metadata": {},
   "outputs": [
    {
     "data": {
      "text/plain": [
       "Property_Area\n",
       "Semiurban    191\n",
       "Urban        150\n",
       "Rural        139\n",
       "Name: count, dtype: int64"
      ]
     },
     "execution_count": 152,
     "metadata": {},
     "output_type": "execute_result"
    }
   ],
   "source": [
    "df['Property_Area'].value_counts()"
   ]
  },
  {
   "cell_type": "code",
   "execution_count": 153,
   "id": "3c8e11e7",
   "metadata": {},
   "outputs": [
    {
     "data": {
      "text/plain": [
       "Loan_Status\n",
       "Y    332\n",
       "N    148\n",
       "Name: count, dtype: int64"
      ]
     },
     "execution_count": 153,
     "metadata": {},
     "output_type": "execute_result"
    }
   ],
   "source": [
    "df['Loan_Status'].value_counts()"
   ]
  },
  {
   "cell_type": "code",
   "execution_count": 154,
   "id": "3f74baf0",
   "metadata": {},
   "outputs": [
    {
     "data": {
      "text/plain": [
       "Index(['Gender', 'Married', 'Dependents', 'Education', 'Self_Employed',\n",
       "       'ApplicantIncome', 'CoapplicantIncome', 'LoanAmount',\n",
       "       'Loan_Amount_Term', 'Credit_History', 'Property_Area', 'Loan_Status'],\n",
       "      dtype='object')"
      ]
     },
     "execution_count": 154,
     "metadata": {},
     "output_type": "execute_result"
    }
   ],
   "source": [
    "df.columns"
   ]
  },
  {
   "cell_type": "code",
   "execution_count": 155,
   "id": "f0d66ed5",
   "metadata": {},
   "outputs": [
    {
     "data": {
      "text/html": [
       "<div>\n",
       "<style scoped>\n",
       "    .dataframe tbody tr th:only-of-type {\n",
       "        vertical-align: middle;\n",
       "    }\n",
       "\n",
       "    .dataframe tbody tr th {\n",
       "        vertical-align: top;\n",
       "    }\n",
       "\n",
       "    .dataframe thead th {\n",
       "        text-align: right;\n",
       "    }\n",
       "</style>\n",
       "<table border=\"1\" class=\"dataframe\">\n",
       "  <thead>\n",
       "    <tr style=\"text-align: right;\">\n",
       "      <th></th>\n",
       "      <th>ApplicantIncome</th>\n",
       "      <th>CoapplicantIncome</th>\n",
       "      <th>LoanAmount</th>\n",
       "      <th>Loan_Amount_Term</th>\n",
       "      <th>Credit_History</th>\n",
       "    </tr>\n",
       "  </thead>\n",
       "  <tbody>\n",
       "    <tr>\n",
       "      <th>count</th>\n",
       "      <td>480.000000</td>\n",
       "      <td>480.000000</td>\n",
       "      <td>480.000000</td>\n",
       "      <td>480.000000</td>\n",
       "      <td>480.000000</td>\n",
       "    </tr>\n",
       "    <tr>\n",
       "      <th>mean</th>\n",
       "      <td>5364.231250</td>\n",
       "      <td>1581.093583</td>\n",
       "      <td>144.735417</td>\n",
       "      <td>342.050000</td>\n",
       "      <td>0.854167</td>\n",
       "    </tr>\n",
       "    <tr>\n",
       "      <th>std</th>\n",
       "      <td>5668.251251</td>\n",
       "      <td>2617.692267</td>\n",
       "      <td>80.508164</td>\n",
       "      <td>65.212401</td>\n",
       "      <td>0.353307</td>\n",
       "    </tr>\n",
       "    <tr>\n",
       "      <th>min</th>\n",
       "      <td>150.000000</td>\n",
       "      <td>0.000000</td>\n",
       "      <td>9.000000</td>\n",
       "      <td>36.000000</td>\n",
       "      <td>0.000000</td>\n",
       "    </tr>\n",
       "    <tr>\n",
       "      <th>25%</th>\n",
       "      <td>2898.750000</td>\n",
       "      <td>0.000000</td>\n",
       "      <td>100.000000</td>\n",
       "      <td>360.000000</td>\n",
       "      <td>1.000000</td>\n",
       "    </tr>\n",
       "    <tr>\n",
       "      <th>50%</th>\n",
       "      <td>3859.000000</td>\n",
       "      <td>1084.500000</td>\n",
       "      <td>128.000000</td>\n",
       "      <td>360.000000</td>\n",
       "      <td>1.000000</td>\n",
       "    </tr>\n",
       "    <tr>\n",
       "      <th>75%</th>\n",
       "      <td>5852.500000</td>\n",
       "      <td>2253.250000</td>\n",
       "      <td>170.000000</td>\n",
       "      <td>360.000000</td>\n",
       "      <td>1.000000</td>\n",
       "    </tr>\n",
       "    <tr>\n",
       "      <th>max</th>\n",
       "      <td>81000.000000</td>\n",
       "      <td>33837.000000</td>\n",
       "      <td>600.000000</td>\n",
       "      <td>480.000000</td>\n",
       "      <td>1.000000</td>\n",
       "    </tr>\n",
       "  </tbody>\n",
       "</table>\n",
       "</div>"
      ],
      "text/plain": [
       "       ApplicantIncome  CoapplicantIncome  LoanAmount  Loan_Amount_Term  \\\n",
       "count       480.000000         480.000000  480.000000        480.000000   \n",
       "mean       5364.231250        1581.093583  144.735417        342.050000   \n",
       "std        5668.251251        2617.692267   80.508164         65.212401   \n",
       "min         150.000000           0.000000    9.000000         36.000000   \n",
       "25%        2898.750000           0.000000  100.000000        360.000000   \n",
       "50%        3859.000000        1084.500000  128.000000        360.000000   \n",
       "75%        5852.500000        2253.250000  170.000000        360.000000   \n",
       "max       81000.000000       33837.000000  600.000000        480.000000   \n",
       "\n",
       "       Credit_History  \n",
       "count      480.000000  \n",
       "mean         0.854167  \n",
       "std          0.353307  \n",
       "min          0.000000  \n",
       "25%          1.000000  \n",
       "50%          1.000000  \n",
       "75%          1.000000  \n",
       "max          1.000000  "
      ]
     },
     "execution_count": 155,
     "metadata": {},
     "output_type": "execute_result"
    }
   ],
   "source": [
    "df.describe()"
   ]
  },
  {
   "cell_type": "markdown",
   "id": "9257722e",
   "metadata": {},
   "source": [
    "### Visualizing the data and checking for the outliers."
   ]
  },
  {
   "cell_type": "code",
   "execution_count": 156,
   "id": "efcdf057",
   "metadata": {
    "scrolled": true
   },
   "outputs": [
    {
     "data": {
      "text/plain": [
       "<Axes: xlabel='LoanAmount', ylabel='ApplicantIncome'>"
      ]
     },
     "execution_count": 156,
     "metadata": {},
     "output_type": "execute_result"
    },
    {
     "data": {
      "image/png": "[encoded data removed]",
      "text/plain": [
       "<Figure size 640x480 with 1 Axes>"
      ]
     },
     "metadata": {},
     "output_type": "display_data"
    }
   ],
   "source": [
    "sns.scatterplot(x='LoanAmount',y='ApplicantIncome',data=df)"
   ]
  },
  {
   "cell_type": "code",
   "execution_count": 157,
   "id": "c1467210",
   "metadata": {
    "scrolled": true
   },
   "outputs": [
    {
     "data": {
      "text/plain": [
       "<Axes: xlabel='ApplicantIncome'>"
      ]
     },
     "execution_count": 157,
     "metadata": {},
     "output_type": "execute_result"
    },
    {
     "data": {
      "image/png": "[encoded data removed]",
      "text/plain": [
       "<Figure size 640x480 with 1 Axes>"
      ]
     },
     "metadata": {},
     "output_type": "display_data"
    }
   ],
   "source": [
    "sns.boxplot(x='ApplicantIncome',data=df)"
   ]
  },
  {
   "cell_type": "markdown",
   "id": "9e084a89",
   "metadata": {},
   "source": [
    "### As it's obvious , there's outliers in the \"ApplicantIncome\" column . so , we'll deal with these outliers with all the numerical columns."
   ]
  },
  {
   "cell_type": "code",
   "execution_count": 158,
   "id": "4ec161bb",
   "metadata": {},
   "outputs": [
    {
     "data": {
      "text/html": [
       "<div>\n",
       "<style scoped>\n",
       "    .dataframe tbody tr th:only-of-type {\n",
       "        vertical-align: middle;\n",
       "    }\n",
       "\n",
       "    .dataframe tbody tr th {\n",
       "        vertical-align: top;\n",
       "    }\n",
       "\n",
       "    .dataframe thead th {\n",
       "        text-align: right;\n",
       "    }\n",
       "</style>\n",
       "<table border=\"1\" class=\"dataframe\">\n",
       "  <thead>\n",
       "    <tr style=\"text-align: right;\">\n",
       "      <th></th>\n",
       "      <th>Gender</th>\n",
       "      <th>Married</th>\n",
       "      <th>Dependents</th>\n",
       "      <th>Education</th>\n",
       "      <th>Self_Employed</th>\n",
       "      <th>ApplicantIncome</th>\n",
       "      <th>CoapplicantIncome</th>\n",
       "      <th>LoanAmount</th>\n",
       "      <th>Loan_Amount_Term</th>\n",
       "      <th>Credit_History</th>\n",
       "      <th>Property_Area</th>\n",
       "      <th>Loan_Status</th>\n",
       "    </tr>\n",
       "  </thead>\n",
       "  <tbody>\n",
       "    <tr>\n",
       "      <th>120</th>\n",
       "      <td>Male</td>\n",
       "      <td>Yes</td>\n",
       "      <td>3+</td>\n",
       "      <td>Graduate</td>\n",
       "      <td>No</td>\n",
       "      <td>39999</td>\n",
       "      <td>0.0</td>\n",
       "      <td>600.0</td>\n",
       "      <td>180</td>\n",
       "      <td>0</td>\n",
       "      <td>Semiurban</td>\n",
       "      <td>Y</td>\n",
       "    </tr>\n",
       "    <tr>\n",
       "      <th>142</th>\n",
       "      <td>Male</td>\n",
       "      <td>Yes</td>\n",
       "      <td>1</td>\n",
       "      <td>Graduate</td>\n",
       "      <td>No</td>\n",
       "      <td>33846</td>\n",
       "      <td>0.0</td>\n",
       "      <td>260.0</td>\n",
       "      <td>360</td>\n",
       "      <td>1</td>\n",
       "      <td>Semiurban</td>\n",
       "      <td>N</td>\n",
       "    </tr>\n",
       "    <tr>\n",
       "      <th>144</th>\n",
       "      <td>Male</td>\n",
       "      <td>Yes</td>\n",
       "      <td>0</td>\n",
       "      <td>Graduate</td>\n",
       "      <td>Yes</td>\n",
       "      <td>39147</td>\n",
       "      <td>4750.0</td>\n",
       "      <td>120.0</td>\n",
       "      <td>360</td>\n",
       "      <td>1</td>\n",
       "      <td>Semiurban</td>\n",
       "      <td>Y</td>\n",
       "    </tr>\n",
       "    <tr>\n",
       "      <th>244</th>\n",
       "      <td>Male</td>\n",
       "      <td>No</td>\n",
       "      <td>0</td>\n",
       "      <td>Graduate</td>\n",
       "      <td>No</td>\n",
       "      <td>20233</td>\n",
       "      <td>0.0</td>\n",
       "      <td>480.0</td>\n",
       "      <td>360</td>\n",
       "      <td>1</td>\n",
       "      <td>Rural</td>\n",
       "      <td>N</td>\n",
       "    </tr>\n",
       "    <tr>\n",
       "      <th>319</th>\n",
       "      <td>Male</td>\n",
       "      <td>Yes</td>\n",
       "      <td>3+</td>\n",
       "      <td>Graduate</td>\n",
       "      <td>No</td>\n",
       "      <td>81000</td>\n",
       "      <td>0.0</td>\n",
       "      <td>360.0</td>\n",
       "      <td>360</td>\n",
       "      <td>0</td>\n",
       "      <td>Rural</td>\n",
       "      <td>N</td>\n",
       "    </tr>\n",
       "    <tr>\n",
       "      <th>347</th>\n",
       "      <td>Male</td>\n",
       "      <td>No</td>\n",
       "      <td>1</td>\n",
       "      <td>Graduate</td>\n",
       "      <td>No</td>\n",
       "      <td>37719</td>\n",
       "      <td>0.0</td>\n",
       "      <td>152.0</td>\n",
       "      <td>360</td>\n",
       "      <td>1</td>\n",
       "      <td>Semiurban</td>\n",
       "      <td>Y</td>\n",
       "    </tr>\n",
       "  </tbody>\n",
       "</table>\n",
       "</div>"
      ],
      "text/plain": [
       "    Gender Married Dependents Education Self_Employed  ApplicantIncome  \\\n",
       "120   Male     Yes         3+  Graduate            No            39999   \n",
       "142   Male     Yes          1  Graduate            No            33846   \n",
       "144   Male     Yes          0  Graduate           Yes            39147   \n",
       "244   Male      No          0  Graduate            No            20233   \n",
       "319   Male     Yes         3+  Graduate            No            81000   \n",
       "347   Male      No          1  Graduate            No            37719   \n",
       "\n",
       "     CoapplicantIncome  LoanAmount  Loan_Amount_Term  Credit_History  \\\n",
       "120                0.0       600.0               180               0   \n",
       "142                0.0       260.0               360               1   \n",
       "144             4750.0       120.0               360               1   \n",
       "244                0.0       480.0               360               1   \n",
       "319                0.0       360.0               360               0   \n",
       "347                0.0       152.0               360               1   \n",
       "\n",
       "    Property_Area Loan_Status  \n",
       "120     Semiurban           Y  \n",
       "142     Semiurban           N  \n",
       "144     Semiurban           Y  \n",
       "244         Rural           N  \n",
       "319         Rural           N  \n",
       "347     Semiurban           Y  "
      ]
     },
     "execution_count": 158,
     "metadata": {},
     "output_type": "execute_result"
    }
   ],
   "source": [
    "df[df['ApplicantIncome']>20000]"
   ]
  },
  {
   "cell_type": "code",
   "execution_count": 159,
   "id": "5b048069",
   "metadata": {},
   "outputs": [],
   "source": [
    "df=df[~(df['ApplicantIncome']>20000)]"
   ]
  },
  {
   "cell_type": "code",
   "execution_count": 160,
   "id": "401ea544",
   "metadata": {},
   "outputs": [
    {
     "data": {
      "text/plain": [
       "<Axes: xlabel='ApplicantIncome'>"
      ]
     },
     "execution_count": 160,
     "metadata": {},
     "output_type": "execute_result"
    },
    {
     "data": {
      "image/png": "[encoded data removed]",
      "text/plain": [
       "<Figure size 640x480 with 1 Axes>"
      ]
     },
     "metadata": {},
     "output_type": "display_data"
    }
   ],
   "source": [
    "sns.boxplot(x='ApplicantIncome',data=df)"
   ]
  },
  {
   "cell_type": "code",
   "execution_count": 161,
   "id": "9fae894d",
   "metadata": {},
   "outputs": [
    {
     "data": {
      "text/plain": [
       "<Axes: xlabel='CoapplicantIncome'>"
      ]
     },
     "execution_count": 161,
     "metadata": {},
     "output_type": "execute_result"
    },
    {
     "data": {
      "image/png": "[encoded data removed]",
      "text/plain": [
       "<Figure size 640x480 with 1 Axes>"
      ]
     },
     "metadata": {},
     "output_type": "display_data"
    }
   ],
   "source": [
    "sns.boxplot(x='CoapplicantIncome',data=df)"
   ]
  },
  {
   "cell_type": "code",
   "execution_count": 162,
   "id": "6e46fb6b",
   "metadata": {},
   "outputs": [
    {
     "data": {
      "text/html": [
       "<div>\n",
       "<style scoped>\n",
       "    .dataframe tbody tr th:only-of-type {\n",
       "        vertical-align: middle;\n",
       "    }\n",
       "\n",
       "    .dataframe tbody tr th {\n",
       "        vertical-align: top;\n",
       "    }\n",
       "\n",
       "    .dataframe thead th {\n",
       "        text-align: right;\n",
       "    }\n",
       "</style>\n",
       "<table border=\"1\" class=\"dataframe\">\n",
       "  <thead>\n",
       "    <tr style=\"text-align: right;\">\n",
       "      <th></th>\n",
       "      <th>Gender</th>\n",
       "      <th>Married</th>\n",
       "      <th>Dependents</th>\n",
       "      <th>Education</th>\n",
       "      <th>Self_Employed</th>\n",
       "      <th>ApplicantIncome</th>\n",
       "      <th>CoapplicantIncome</th>\n",
       "      <th>LoanAmount</th>\n",
       "      <th>Loan_Amount_Term</th>\n",
       "      <th>Credit_History</th>\n",
       "      <th>Property_Area</th>\n",
       "      <th>Loan_Status</th>\n",
       "    </tr>\n",
       "  </thead>\n",
       "  <tbody>\n",
       "    <tr>\n",
       "      <th>8</th>\n",
       "      <td>Male</td>\n",
       "      <td>Yes</td>\n",
       "      <td>1</td>\n",
       "      <td>Graduate</td>\n",
       "      <td>No</td>\n",
       "      <td>12841</td>\n",
       "      <td>10968.0</td>\n",
       "      <td>349.0</td>\n",
       "      <td>360</td>\n",
       "      <td>1</td>\n",
       "      <td>Semiurban</td>\n",
       "      <td>N</td>\n",
       "    </tr>\n",
       "    <tr>\n",
       "      <th>137</th>\n",
       "      <td>Male</td>\n",
       "      <td>Yes</td>\n",
       "      <td>3+</td>\n",
       "      <td>Graduate</td>\n",
       "      <td>No</td>\n",
       "      <td>5516</td>\n",
       "      <td>11300.0</td>\n",
       "      <td>495.0</td>\n",
       "      <td>360</td>\n",
       "      <td>0</td>\n",
       "      <td>Semiurban</td>\n",
       "      <td>N</td>\n",
       "    </tr>\n",
       "    <tr>\n",
       "      <th>312</th>\n",
       "      <td>Male</td>\n",
       "      <td>No</td>\n",
       "      <td>0</td>\n",
       "      <td>Graduate</td>\n",
       "      <td>No</td>\n",
       "      <td>2500</td>\n",
       "      <td>20000.0</td>\n",
       "      <td>103.0</td>\n",
       "      <td>360</td>\n",
       "      <td>1</td>\n",
       "      <td>Semiurban</td>\n",
       "      <td>Y</td>\n",
       "    </tr>\n",
       "    <tr>\n",
       "      <th>326</th>\n",
       "      <td>Male</td>\n",
       "      <td>Yes</td>\n",
       "      <td>2</td>\n",
       "      <td>Graduate</td>\n",
       "      <td>Yes</td>\n",
       "      <td>1600</td>\n",
       "      <td>20000.0</td>\n",
       "      <td>239.0</td>\n",
       "      <td>360</td>\n",
       "      <td>1</td>\n",
       "      <td>Urban</td>\n",
       "      <td>N</td>\n",
       "    </tr>\n",
       "    <tr>\n",
       "      <th>454</th>\n",
       "      <td>Male</td>\n",
       "      <td>No</td>\n",
       "      <td>0</td>\n",
       "      <td>Graduate</td>\n",
       "      <td>No</td>\n",
       "      <td>1836</td>\n",
       "      <td>33837.0</td>\n",
       "      <td>90.0</td>\n",
       "      <td>360</td>\n",
       "      <td>1</td>\n",
       "      <td>Urban</td>\n",
       "      <td>N</td>\n",
       "    </tr>\n",
       "  </tbody>\n",
       "</table>\n",
       "</div>"
      ],
      "text/plain": [
       "    Gender Married Dependents Education Self_Employed  ApplicantIncome  \\\n",
       "8     Male     Yes          1  Graduate            No            12841   \n",
       "137   Male     Yes         3+  Graduate            No             5516   \n",
       "312   Male      No          0  Graduate            No             2500   \n",
       "326   Male     Yes          2  Graduate           Yes             1600   \n",
       "454   Male      No          0  Graduate            No             1836   \n",
       "\n",
       "     CoapplicantIncome  LoanAmount  Loan_Amount_Term  Credit_History  \\\n",
       "8              10968.0       349.0               360               1   \n",
       "137            11300.0       495.0               360               0   \n",
       "312            20000.0       103.0               360               1   \n",
       "326            20000.0       239.0               360               1   \n",
       "454            33837.0        90.0               360               1   \n",
       "\n",
       "    Property_Area Loan_Status  \n",
       "8       Semiurban           N  \n",
       "137     Semiurban           N  \n",
       "312     Semiurban           Y  \n",
       "326         Urban           N  \n",
       "454         Urban           N  "
      ]
     },
     "execution_count": 162,
     "metadata": {},
     "output_type": "execute_result"
    }
   ],
   "source": [
    "df[df['CoapplicantIncome']>=10000]"
   ]
  },
  {
   "cell_type": "code",
   "execution_count": 163,
   "id": "34a48859",
   "metadata": {},
   "outputs": [],
   "source": [
    "df=df[~(df['CoapplicantIncome']>=10000)]"
   ]
  },
  {
   "cell_type": "code",
   "execution_count": 164,
   "id": "ca5a33fa",
   "metadata": {},
   "outputs": [
    {
     "data": {
      "text/plain": [
       "<Axes: xlabel='CoapplicantIncome'>"
      ]
     },
     "execution_count": 164,
     "metadata": {},
     "output_type": "execute_result"
    },
    {
     "data": {
      "image/png": "[encoded data removed]",
      "text/plain": [
       "<Figure size 640x480 with 1 Axes>"
      ]
     },
     "metadata": {},
     "output_type": "display_data"
    }
   ],
   "source": [
    "sns.boxplot(x='CoapplicantIncome',data=df)"
   ]
  },
  {
   "cell_type": "code",
   "execution_count": 165,
   "id": "7b52ea08",
   "metadata": {},
   "outputs": [
    {
     "data": {
      "text/plain": [
       "<Axes: xlabel='LoanAmount'>"
      ]
     },
     "execution_count": 165,
     "metadata": {},
     "output_type": "execute_result"
    },
    {
     "data": {
      "image/png": "[encoded data removed]",
      "text/plain": [
       "<Figure size 640x480 with 1 Axes>"
      ]
     },
     "metadata": {},
     "output_type": "display_data"
    }
   ],
   "source": [
    "sns.boxplot(x='LoanAmount',data=df)"
   ]
  },
  {
   "cell_type": "code",
   "execution_count": 166,
   "id": "2eb88cd0",
   "metadata": {},
   "outputs": [
    {
     "data": {
      "text/html": [
       "<div>\n",
       "<style scoped>\n",
       "    .dataframe tbody tr th:only-of-type {\n",
       "        vertical-align: middle;\n",
       "    }\n",
       "\n",
       "    .dataframe tbody tr th {\n",
       "        vertical-align: top;\n",
       "    }\n",
       "\n",
       "    .dataframe thead th {\n",
       "        text-align: right;\n",
       "    }\n",
       "</style>\n",
       "<table border=\"1\" class=\"dataframe\">\n",
       "  <thead>\n",
       "    <tr style=\"text-align: right;\">\n",
       "      <th></th>\n",
       "      <th>Gender</th>\n",
       "      <th>Married</th>\n",
       "      <th>Dependents</th>\n",
       "      <th>Education</th>\n",
       "      <th>Self_Employed</th>\n",
       "      <th>ApplicantIncome</th>\n",
       "      <th>CoapplicantIncome</th>\n",
       "      <th>LoanAmount</th>\n",
       "      <th>Loan_Amount_Term</th>\n",
       "      <th>Credit_History</th>\n",
       "      <th>Property_Area</th>\n",
       "      <th>Loan_Status</th>\n",
       "    </tr>\n",
       "  </thead>\n",
       "  <tbody>\n",
       "    <tr>\n",
       "      <th>17</th>\n",
       "      <td>Male</td>\n",
       "      <td>Yes</td>\n",
       "      <td>1</td>\n",
       "      <td>Graduate</td>\n",
       "      <td>No</td>\n",
       "      <td>5955</td>\n",
       "      <td>5625.0</td>\n",
       "      <td>315.0</td>\n",
       "      <td>360</td>\n",
       "      <td>1</td>\n",
       "      <td>Urban</td>\n",
       "      <td>Y</td>\n",
       "    </tr>\n",
       "    <tr>\n",
       "      <th>26</th>\n",
       "      <td>Male</td>\n",
       "      <td>No</td>\n",
       "      <td>3+</td>\n",
       "      <td>Graduate</td>\n",
       "      <td>No</td>\n",
       "      <td>12500</td>\n",
       "      <td>3000.0</td>\n",
       "      <td>320.0</td>\n",
       "      <td>360</td>\n",
       "      <td>1</td>\n",
       "      <td>Rural</td>\n",
       "      <td>N</td>\n",
       "    </tr>\n",
       "    <tr>\n",
       "      <th>53</th>\n",
       "      <td>Male</td>\n",
       "      <td>Yes</td>\n",
       "      <td>1</td>\n",
       "      <td>Graduate</td>\n",
       "      <td>No</td>\n",
       "      <td>10750</td>\n",
       "      <td>0.0</td>\n",
       "      <td>312.0</td>\n",
       "      <td>360</td>\n",
       "      <td>1</td>\n",
       "      <td>Urban</td>\n",
       "      <td>Y</td>\n",
       "    </tr>\n",
       "    <tr>\n",
       "      <th>203</th>\n",
       "      <td>Male</td>\n",
       "      <td>Yes</td>\n",
       "      <td>0</td>\n",
       "      <td>Graduate</td>\n",
       "      <td>No</td>\n",
       "      <td>14683</td>\n",
       "      <td>2100.0</td>\n",
       "      <td>304.0</td>\n",
       "      <td>360</td>\n",
       "      <td>1</td>\n",
       "      <td>Rural</td>\n",
       "      <td>N</td>\n",
       "    </tr>\n",
       "    <tr>\n",
       "      <th>220</th>\n",
       "      <td>Male</td>\n",
       "      <td>Yes</td>\n",
       "      <td>0</td>\n",
       "      <td>Graduate</td>\n",
       "      <td>No</td>\n",
       "      <td>14583</td>\n",
       "      <td>0.0</td>\n",
       "      <td>436.0</td>\n",
       "      <td>360</td>\n",
       "      <td>1</td>\n",
       "      <td>Semiurban</td>\n",
       "      <td>Y</td>\n",
       "    </tr>\n",
       "    <tr>\n",
       "      <th>253</th>\n",
       "      <td>Male</td>\n",
       "      <td>Yes</td>\n",
       "      <td>3+</td>\n",
       "      <td>Graduate</td>\n",
       "      <td>No</td>\n",
       "      <td>15000</td>\n",
       "      <td>0.0</td>\n",
       "      <td>300.0</td>\n",
       "      <td>360</td>\n",
       "      <td>1</td>\n",
       "      <td>Rural</td>\n",
       "      <td>Y</td>\n",
       "    </tr>\n",
       "    <tr>\n",
       "      <th>254</th>\n",
       "      <td>Male</td>\n",
       "      <td>Yes</td>\n",
       "      <td>1</td>\n",
       "      <td>Graduate</td>\n",
       "      <td>Yes</td>\n",
       "      <td>8666</td>\n",
       "      <td>4983.0</td>\n",
       "      <td>376.0</td>\n",
       "      <td>360</td>\n",
       "      <td>0</td>\n",
       "      <td>Rural</td>\n",
       "      <td>N</td>\n",
       "    </tr>\n",
       "    <tr>\n",
       "      <th>271</th>\n",
       "      <td>Male</td>\n",
       "      <td>No</td>\n",
       "      <td>0</td>\n",
       "      <td>Graduate</td>\n",
       "      <td>No</td>\n",
       "      <td>8750</td>\n",
       "      <td>4167.0</td>\n",
       "      <td>308.0</td>\n",
       "      <td>360</td>\n",
       "      <td>1</td>\n",
       "      <td>Rural</td>\n",
       "      <td>N</td>\n",
       "    </tr>\n",
       "    <tr>\n",
       "      <th>286</th>\n",
       "      <td>Male</td>\n",
       "      <td>Yes</td>\n",
       "      <td>0</td>\n",
       "      <td>Graduate</td>\n",
       "      <td>No</td>\n",
       "      <td>19730</td>\n",
       "      <td>5266.0</td>\n",
       "      <td>570.0</td>\n",
       "      <td>360</td>\n",
       "      <td>1</td>\n",
       "      <td>Rural</td>\n",
       "      <td>N</td>\n",
       "    </tr>\n",
       "    <tr>\n",
       "      <th>289</th>\n",
       "      <td>Male</td>\n",
       "      <td>Yes</td>\n",
       "      <td>2</td>\n",
       "      <td>Graduate</td>\n",
       "      <td>Yes</td>\n",
       "      <td>9323</td>\n",
       "      <td>7873.0</td>\n",
       "      <td>380.0</td>\n",
       "      <td>300</td>\n",
       "      <td>1</td>\n",
       "      <td>Rural</td>\n",
       "      <td>Y</td>\n",
       "    </tr>\n",
       "    <tr>\n",
       "      <th>380</th>\n",
       "      <td>Male</td>\n",
       "      <td>Yes</td>\n",
       "      <td>1</td>\n",
       "      <td>Graduate</td>\n",
       "      <td>No</td>\n",
       "      <td>18333</td>\n",
       "      <td>0.0</td>\n",
       "      <td>500.0</td>\n",
       "      <td>360</td>\n",
       "      <td>1</td>\n",
       "      <td>Urban</td>\n",
       "      <td>N</td>\n",
       "    </tr>\n",
       "    <tr>\n",
       "      <th>401</th>\n",
       "      <td>Male</td>\n",
       "      <td>No</td>\n",
       "      <td>0</td>\n",
       "      <td>Graduate</td>\n",
       "      <td>No</td>\n",
       "      <td>5815</td>\n",
       "      <td>3666.0</td>\n",
       "      <td>311.0</td>\n",
       "      <td>360</td>\n",
       "      <td>1</td>\n",
       "      <td>Rural</td>\n",
       "      <td>N</td>\n",
       "    </tr>\n",
       "    <tr>\n",
       "      <th>409</th>\n",
       "      <td>Male</td>\n",
       "      <td>Yes</td>\n",
       "      <td>2</td>\n",
       "      <td>Graduate</td>\n",
       "      <td>Yes</td>\n",
       "      <td>7948</td>\n",
       "      <td>7166.0</td>\n",
       "      <td>480.0</td>\n",
       "      <td>360</td>\n",
       "      <td>1</td>\n",
       "      <td>Rural</td>\n",
       "      <td>Y</td>\n",
       "    </tr>\n",
       "    <tr>\n",
       "      <th>410</th>\n",
       "      <td>Male</td>\n",
       "      <td>Yes</td>\n",
       "      <td>2</td>\n",
       "      <td>Graduate</td>\n",
       "      <td>Yes</td>\n",
       "      <td>17500</td>\n",
       "      <td>0.0</td>\n",
       "      <td>400.0</td>\n",
       "      <td>360</td>\n",
       "      <td>1</td>\n",
       "      <td>Rural</td>\n",
       "      <td>Y</td>\n",
       "    </tr>\n",
       "    <tr>\n",
       "      <th>418</th>\n",
       "      <td>Male</td>\n",
       "      <td>Yes</td>\n",
       "      <td>0</td>\n",
       "      <td>Graduate</td>\n",
       "      <td>No</td>\n",
       "      <td>6133</td>\n",
       "      <td>3906.0</td>\n",
       "      <td>324.0</td>\n",
       "      <td>360</td>\n",
       "      <td>1</td>\n",
       "      <td>Urban</td>\n",
       "      <td>Y</td>\n",
       "    </tr>\n",
       "    <tr>\n",
       "      <th>438</th>\n",
       "      <td>Female</td>\n",
       "      <td>Yes</td>\n",
       "      <td>1</td>\n",
       "      <td>Graduate</td>\n",
       "      <td>Yes</td>\n",
       "      <td>19484</td>\n",
       "      <td>0.0</td>\n",
       "      <td>600.0</td>\n",
       "      <td>360</td>\n",
       "      <td>1</td>\n",
       "      <td>Semiurban</td>\n",
       "      <td>Y</td>\n",
       "    </tr>\n",
       "    <tr>\n",
       "      <th>471</th>\n",
       "      <td>Female</td>\n",
       "      <td>Yes</td>\n",
       "      <td>1</td>\n",
       "      <td>Graduate</td>\n",
       "      <td>No</td>\n",
       "      <td>12000</td>\n",
       "      <td>0.0</td>\n",
       "      <td>496.0</td>\n",
       "      <td>360</td>\n",
       "      <td>1</td>\n",
       "      <td>Semiurban</td>\n",
       "      <td>Y</td>\n",
       "    </tr>\n",
       "  </tbody>\n",
       "</table>\n",
       "</div>"
      ],
      "text/plain": [
       "     Gender Married Dependents Education Self_Employed  ApplicantIncome  \\\n",
       "17     Male     Yes          1  Graduate            No             5955   \n",
       "26     Male      No         3+  Graduate            No            12500   \n",
       "53     Male     Yes          1  Graduate            No            10750   \n",
       "203    Male     Yes          0  Graduate            No            14683   \n",
       "220    Male     Yes          0  Graduate            No            14583   \n",
       "253    Male     Yes         3+  Graduate            No            15000   \n",
       "254    Male     Yes          1  Graduate           Yes             8666   \n",
       "271    Male      No          0  Graduate            No             8750   \n",
       "286    Male     Yes          0  Graduate            No            19730   \n",
       "289    Male     Yes          2  Graduate           Yes             9323   \n",
       "380    Male     Yes          1  Graduate            No            18333   \n",
       "401    Male      No          0  Graduate            No             5815   \n",
       "409    Male     Yes          2  Graduate           Yes             7948   \n",
       "410    Male     Yes          2  Graduate           Yes            17500   \n",
       "418    Male     Yes          0  Graduate            No             6133   \n",
       "438  Female     Yes          1  Graduate           Yes            19484   \n",
       "471  Female     Yes          1  Graduate            No            12000   \n",
       "\n",
       "     CoapplicantIncome  LoanAmount  Loan_Amount_Term  Credit_History  \\\n",
       "17              5625.0       315.0               360               1   \n",
       "26              3000.0       320.0               360               1   \n",
       "53                 0.0       312.0               360               1   \n",
       "203             2100.0       304.0               360               1   \n",
       "220                0.0       436.0               360               1   \n",
       "253                0.0       300.0               360               1   \n",
       "254             4983.0       376.0               360               0   \n",
       "271             4167.0       308.0               360               1   \n",
       "286             5266.0       570.0               360               1   \n",
       "289             7873.0       380.0               300               1   \n",
       "380                0.0       500.0               360               1   \n",
       "401             3666.0       311.0               360               1   \n",
       "409             7166.0       480.0               360               1   \n",
       "410                0.0       400.0               360               1   \n",
       "418             3906.0       324.0               360               1   \n",
       "438                0.0       600.0               360               1   \n",
       "471                0.0       496.0               360               1   \n",
       "\n",
       "    Property_Area Loan_Status  \n",
       "17          Urban           Y  \n",
       "26          Rural           N  \n",
       "53          Urban           Y  \n",
       "203         Rural           N  \n",
       "220     Semiurban           Y  \n",
       "253         Rural           Y  \n",
       "254         Rural           N  \n",
       "271         Rural           N  \n",
       "286         Rural           N  \n",
       "289         Rural           Y  \n",
       "380         Urban           N  \n",
       "401         Rural           N  \n",
       "409         Rural           Y  \n",
       "410         Rural           Y  \n",
       "418         Urban           Y  \n",
       "438     Semiurban           Y  \n",
       "471     Semiurban           Y  "
      ]
     },
     "execution_count": 166,
     "metadata": {},
     "output_type": "execute_result"
    }
   ],
   "source": [
    "df[df['LoanAmount']>=300]"
   ]
  },
  {
   "cell_type": "code",
   "execution_count": 167,
   "id": "24e65bb2",
   "metadata": {},
   "outputs": [],
   "source": [
    "df=df[~(df['LoanAmount']>=300)]"
   ]
  },
  {
   "cell_type": "code",
   "execution_count": 168,
   "id": "290e6684",
   "metadata": {},
   "outputs": [
    {
     "data": {
      "text/plain": [
       "<Axes: xlabel='LoanAmount'>"
      ]
     },
     "execution_count": 168,
     "metadata": {},
     "output_type": "execute_result"
    },
    {
     "data": {
      "image/png": "[encoded data removed]",
      "text/plain": [
       "<Figure size 640x480 with 1 Axes>"
      ]
     },
     "metadata": {},
     "output_type": "display_data"
    }
   ],
   "source": [
    "sns.boxplot(x='LoanAmount',data=df)"
   ]
  },
  {
   "cell_type": "code",
   "execution_count": 169,
   "id": "0502d8f8",
   "metadata": {},
   "outputs": [
    {
     "data": {
      "text/plain": [
       "0"
      ]
     },
     "execution_count": 169,
     "metadata": {},
     "output_type": "execute_result"
    }
   ],
   "source": [
    "df.duplicated().sum()"
   ]
  },
  {
   "cell_type": "code",
   "execution_count": 170,
   "id": "1fb4e13b",
   "metadata": {},
   "outputs": [
    {
     "data": {
      "text/plain": [
       "480"
      ]
     },
     "execution_count": 170,
     "metadata": {},
     "output_type": "execute_result"
    }
   ],
   "source": [
    "df['Loan_Amount_Term'].max()"
   ]
  },
  {
   "cell_type": "code",
   "execution_count": 171,
   "id": "8e5f02f3",
   "metadata": {},
   "outputs": [
    {
     "data": {
      "text/plain": [
       "array([360, 120, 180,  60, 300, 480, 240,  36,  84])"
      ]
     },
     "execution_count": 171,
     "metadata": {},
     "output_type": "execute_result"
    }
   ],
   "source": [
    "df['Loan_Amount_Term'].unique()"
   ]
  },
  {
   "cell_type": "code",
   "execution_count": 172,
   "id": "9be9880c",
   "metadata": {},
   "outputs": [
    {
     "data": {
      "text/plain": [
       "Loan_Amount_Term\n",
       "360    385\n",
       "180     35\n",
       "480     12\n",
       "300      8\n",
       "120      3\n",
       "84       3\n",
       "60       2\n",
       "240      2\n",
       "36       2\n",
       "Name: count, dtype: int64"
      ]
     },
     "execution_count": 172,
     "metadata": {},
     "output_type": "execute_result"
    }
   ],
   "source": [
    "df['Loan_Amount_Term'].value_counts()"
   ]
  },
  {
   "cell_type": "code",
   "execution_count": 173,
   "id": "445e5e54",
   "metadata": {},
   "outputs": [],
   "source": [
    "replacements={120:300,240:300,84:300,60:300,36:300}\n",
    "df['Loan_Amount_Term'] = df['Loan_Amount_Term'].map(replacements).fillna(df['Loan_Amount_Term'])"
   ]
  },
  {
   "cell_type": "code",
   "execution_count": 174,
   "id": "da941323",
   "metadata": {},
   "outputs": [
    {
     "data": {
      "text/plain": [
       "Loan_Amount_Term\n",
       "360.0    385\n",
       "180.0     35\n",
       "300.0     20\n",
       "480.0     12\n",
       "Name: count, dtype: int64"
      ]
     },
     "execution_count": 174,
     "metadata": {},
     "output_type": "execute_result"
    }
   ],
   "source": [
    "df['Loan_Amount_Term'].value_counts()"
   ]
  },
  {
   "cell_type": "code",
   "execution_count": 175,
   "id": "c50a13d8",
   "metadata": {},
   "outputs": [
    {
     "name": "stdout",
     "output_type": "stream",
     "text": [
      "<class 'pandas.core.frame.DataFrame'>\n",
      "Index: 452 entries, 0 to 479\n",
      "Data columns (total 12 columns):\n",
      " #   Column             Non-Null Count  Dtype  \n",
      "---  ------             --------------  -----  \n",
      " 0   Gender             452 non-null    object \n",
      " 1   Married            452 non-null    object \n",
      " 2   Dependents         452 non-null    object \n",
      " 3   Education          452 non-null    object \n",
      " 4   Self_Employed      452 non-null    object \n",
      " 5   ApplicantIncome    452 non-null    int64  \n",
      " 6   CoapplicantIncome  452 non-null    float64\n",
      " 7   LoanAmount         452 non-null    float64\n",
      " 8   Loan_Amount_Term   452 non-null    float64\n",
      " 9   Credit_History     452 non-null    int32  \n",
      " 10  Property_Area      452 non-null    object \n",
      " 11  Loan_Status        452 non-null    object \n",
      "dtypes: float64(3), int32(1), int64(1), object(7)\n",
      "memory usage: 44.1+ KB\n"
     ]
    }
   ],
   "source": [
    "df.info()"
   ]
  },
  {
   "cell_type": "code",
   "execution_count": 176,
   "id": "38067e22",
   "metadata": {},
   "outputs": [],
   "source": [
    "df['Credit_History']=df['Credit_History'].astype('object')"
   ]
  },
  {
   "cell_type": "code",
   "execution_count": 177,
   "id": "2083cebb",
   "metadata": {},
   "outputs": [
    {
     "data": {
      "text/plain": [
       "Index(['Gender', 'Married', 'Dependents', 'Education', 'Self_Employed',\n",
       "       'ApplicantIncome', 'CoapplicantIncome', 'LoanAmount',\n",
       "       'Loan_Amount_Term', 'Credit_History', 'Property_Area', 'Loan_Status'],\n",
       "      dtype='object')"
      ]
     },
     "execution_count": 177,
     "metadata": {},
     "output_type": "execute_result"
    }
   ],
   "source": [
    "df.columns"
   ]
  },
  {
   "cell_type": "markdown",
   "id": "8822eb5b",
   "metadata": {},
   "source": [
    "### Creating the pipeline and build our model"
   ]
  },
  {
   "cell_type": "code",
   "execution_count": 178,
   "id": "c825b3e4",
   "metadata": {},
   "outputs": [],
   "source": [
    "from sklearn.compose import ColumnTransformer\n",
    "from sklearn.pipeline import Pipeline\n",
    "from sklearn.preprocessing import OneHotEncoder , RobustScaler , StandardScaler\n",
    "from category_encoders.binary import BinaryEncoder\n",
    "from sklearn.linear_model import LogisticRegression\n",
    "from sklearn.model_selection import cross_validate"
   ]
  },
  {
   "cell_type": "code",
   "execution_count": 179,
   "id": "8fde38d7",
   "metadata": {
    "scrolled": true
   },
   "outputs": [],
   "source": [
    "Encoder=ColumnTransformer(transformers = [('OHE',OneHotEncoder(sparse_output=False,drop=\"first\"),['Gender', 'Married', 'Dependents', 'Education', 'Self_Employed','Credit_History', 'Property_Area'])\n",
    "                                         ],remainder='passthrough')"
   ]
  },
  {
   "cell_type": "code",
   "execution_count": 180,
   "id": "eac37fcc",
   "metadata": {},
   "outputs": [],
   "source": [
    "steps = []\n",
    "steps.append((\"Encoder\" , Encoder))\n",
    "steps.append((\"Scaler\" , StandardScaler()))\n",
    "steps.append((\"LR\" , LogisticRegression()))\n",
    "pipeline = Pipeline(steps = steps)"
   ]
  },
  {
   "cell_type": "code",
   "execution_count": 181,
   "id": "578a5f19",
   "metadata": {},
   "outputs": [],
   "source": [
    "x = df.drop(\"Loan_Status\" , axis = 1 )\n",
    "y = df[\"Loan_Status\"]"
   ]
  },
  {
   "cell_type": "code",
   "execution_count": 182,
   "id": "f10a9b1a",
   "metadata": {},
   "outputs": [],
   "source": [
    "result = cross_validate(pipeline , x ,y , cv = 5 , scoring=\"accuracy\" , return_train_score=True)"
   ]
  },
  {
   "cell_type": "code",
   "execution_count": 183,
   "id": "f467374b",
   "metadata": {},
   "outputs": [
    {
     "data": {
      "text/plain": [
       "0.8213587181096097"
      ]
     },
     "execution_count": 183,
     "metadata": {},
     "output_type": "execute_result"
    }
   ],
   "source": [
    "result[\"train_score\"].mean()"
   ]
  },
  {
   "cell_type": "code",
   "execution_count": 184,
   "id": "50504908",
   "metadata": {},
   "outputs": [
    {
     "data": {
      "text/plain": [
       "0.8164346764346764"
      ]
     },
     "execution_count": 184,
     "metadata": {},
     "output_type": "execute_result"
    }
   ],
   "source": [
    "result[\"test_score\"].mean()"
   ]
  },
  {
   "cell_type": "code",
   "execution_count": 185,
   "id": "481ae59d",
   "metadata": {},
   "outputs": [],
   "source": [
    "from sklearn.neighbors import KNeighborsClassifier\n",
    "from sklearn.tree import DecisionTreeClassifier\n",
    "from sklearn.ensemble import RandomForestClassifier\n",
    "from sklearn.svm import SVC\n",
    "from sklearn.naive_bayes import GaussianNB , MultinomialNB\n",
    "from xgboost import XGBClassifier\n",
    "from sklearn.ensemble import RandomForestClassifier, GradientBoostingClassifier"
   ]
  },
  {
   "cell_type": "code",
   "execution_count": 186,
   "id": "a65af2c7",
   "metadata": {},
   "outputs": [],
   "source": [
    "models = []\n",
    "models.append((\"LR\" , LogisticRegression()))\n",
    "models.append((\"CART\" , DecisionTreeClassifier()))\n",
    "models.append((\"RF\" , RandomForestClassifier()))\n",
    "models.append(('KNN',KNeighborsClassifier()))\n",
    "models.append((\"SVC\" , SVC()))\n",
    "models.append((\"GNB\" , GaussianNB()))\n",
    "models.append((\"XGB\" , GradientBoostingClassifier()))"
   ]
  },
  {
   "cell_type": "code",
   "execution_count": 187,
   "id": "97a90502",
   "metadata": {
    "scrolled": false
   },
   "outputs": [
    {
     "name": "stdout",
     "output_type": "stream",
     "text": [
      "LR Average Train accuracy is 0.8213587181096097\n",
      "LR Average Test accuracy is 0.8164346764346764 \n",
      "\n",
      "CART Average Train accuracy is 1.0\n",
      "CART Average Test accuracy is 0.7058119658119658 \n",
      "\n",
      "RF Average Train accuracy is 1.0\n",
      "RF Average Test accuracy is 0.8097680097680098 \n",
      "\n",
      "KNN Average Train accuracy is 0.820238441407386\n",
      "KNN Average Test accuracy is 0.7789010989010988 \n",
      "\n",
      "SVC Average Train accuracy is 0.8373915305856965\n",
      "SVC Average Test accuracy is 0.8208547008547008 \n",
      "\n",
      "GNB Average Train accuracy is 0.8196966682481136\n",
      "GNB Average Test accuracy is 0.8097680097680098 \n",
      "\n",
      "XGB Average Train accuracy is 0.928651229702637\n",
      "XGB Average Test accuracy is 0.7855189255189254 \n",
      "\n"
     ]
    }
   ],
   "source": [
    "for model in models:\n",
    "    steps = []\n",
    "    steps.append((\"Encoder\" , Encoder))\n",
    "    steps.append((\"Scaler\" , StandardScaler()))\n",
    "    steps.append(model)\n",
    "    pipeline = Pipeline(steps = steps)\n",
    "    result = cross_validate(pipeline ,x , y, cv = 5 , scoring = \"accuracy\" , return_train_score=True)\n",
    "    print(f\"{model[0]} Average Train accuracy is {result['train_score'].mean() }\")\n",
    "    print(f\"{model[0]} Average Test accuracy is {result['test_score'].mean() } \\n\")\n"
   ]
  },
  {
   "cell_type": "markdown",
   "id": "6d1a74e4",
   "metadata": {},
   "source": [
    "### The best accuracy with Support Vecror Classifier model , so this will be used. "
   ]
  }
 ],
 "metadata": {
  "kernelspec": {
   "display_name": "Python 3 (ipykernel)",
   "language": "python",
   "name": "python3"
  },
  "language_info": {
   "codemirror_mode": {
    "name": "ipython",
    "version": 3
   },
   "file_extension": ".py",
   "mimetype": "text/x-python",
   "name": "python",
   "nbconvert_exporter": "python",
   "pygments_lexer": "ipython3",
   "version": "3.11.5"
  }
 },
 "nbformat": 4,
 "nbformat_minor": 5
}
